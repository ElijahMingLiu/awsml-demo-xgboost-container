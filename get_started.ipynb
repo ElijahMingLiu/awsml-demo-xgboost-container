{
 "cells": [
  {
   "cell_type": "markdown",
   "id": "80c52d03",
   "metadata": {},
   "source": [
    "Install AWSML Library"
   ]
  },
  {
   "cell_type": "code",
   "execution_count": null,
   "id": "3b28df37",
   "metadata": {},
   "outputs": [],
   "source": [
    "! pip install awsml"
   ]
  },
  {
   "cell_type": "code",
   "execution_count": 1,
   "id": "369e541c",
   "metadata": {},
   "outputs": [],
   "source": [
    "from awsml.docker_utils import build_and_push"
   ]
  },
  {
   "cell_type": "markdown",
   "id": "b6b4b853",
   "metadata": {},
   "source": [
    "Specify：\n",
    "- local image name\n",
    "- Dockerfile path\n",
    "- ECR image name"
   ]
  },
  {
   "cell_type": "code",
   "execution_count": 2,
   "id": "b646d45c",
   "metadata": {},
   "outputs": [
    {
     "name": "stdout",
     "output_type": "stream",
     "text": [
      "******************************\n",
      "Start building\n",
      "Step 1/10 : FROM ubuntu:18.04\n",
      " ---> 39a8cfeef173\n",
      "Step 2/10 : RUN apt-get update &&     apt-get -y install --no-install-recommends     wget     curl     python3-dev     nginx     ca-certificates     libgomp1     gcc     && rm -rf /var/lib/apt/lists/*     && curl -O https://bootstrap.pypa.io/get-pip.py     && python3 get-pip.py\n",
      " ---> Using cache\n",
      " ---> 66fd451be5bc\n",
      "Step 3/10 : RUN pip install boto3\n",
      " ---> Using cache\n",
      " ---> a23ae5e507ab\n",
      "Step 4/10 : RUN update-alternatives --install /usr/bin/python python /usr/bin/python3 1\n",
      " ---> Using cache\n",
      " ---> 9fb6441bcef4\n",
      "Step 5/10 : RUN update-alternatives --install /usr/local/bin/pip pip /usr/local/bin/pip3 1\n",
      " ---> Using cache\n",
      " ---> a4592ee718a2\n",
      "Step 6/10 : RUN pip3 install -i https://pypi.doubanio.com/simple boto3 numpy scipy scikit-learn pandas flask gevent gunicorn xgboost\n",
      " ---> Using cache\n",
      " ---> d3b50979caac\n",
      "Step 7/10 : ENV PYTHONUNBUFFERED=TRUE\n",
      " ---> Using cache\n",
      " ---> 1fdc627c7243\n",
      "Step 8/10 : ENV PYTHONDONTWRITEBYTECODE=TRUE\n",
      " ---> Using cache\n",
      " ---> b32e7d0191c1\n",
      "Step 9/10 : ENV PATH=\"/opt/program:${PATH}\"\n",
      " ---> Using cache\n",
      " ---> 049729d96920\n",
      "Step 10/10 : WORKDIR /opt/program\n",
      " ---> Using cache\n",
      " ---> 8d731a2ee128\n",
      "Successfully built 8d731a2ee128\n",
      "Successfully tagged xgboost-training-demo:latest\n",
      "\n",
      "\n",
      "\n",
      "\n",
      "******************************\n",
      "Start pushing\n",
      "[Info]Repository xgboost-training-demo existed\n",
      "337058716437.dkr.ecr.ca-central-1.amazonaws.com/xgboost-training-demo\n",
      "The push refers to repository [337058716437.dkr.ecr.ca-central-1.amazonaws.com/xgboost-training-demo\n",
      "Preparing,progressDetail:,id:4cc5c432adb0\n",
      "Preparing,progressDetail:,id:3082a51c12d1\n",
      "Preparing,progressDetail:,id:0c38f1e6ba0a\n",
      "Preparing,progressDetail:,id:cb7ddc30ad9f\n",
      "Preparing,progressDetail:,id:998f4e9ad063\n",
      "Preparing,progressDetail:,id:54db00fe408f\n",
      "Preparing,progressDetail:,id:21639b09744f\n",
      "Waiting,progressDetail:,id:54db00fe408f\n",
      "Waiting,progressDetail:,id:21639b09744f\n",
      "Layer already exists,progressDetail:,id:0c38f1e6ba0a\n",
      "Layer already exists,progressDetail:,id:3082a51c12d1\n",
      "Layer already exists,progressDetail:,id:4cc5c432adb0\n",
      "Layer already exists,progressDetail:,id:998f4e9ad063\n",
      "Layer already exists,progressDetail:,id:cb7ddc30ad9f\n",
      "Layer already exists,progressDetail:,id:54db00fe408f\n",
      "Layer already exists,progressDetail:,id:21639b09744f\n",
      "latest: digest: sha256:99aba923bcc1f0e4f8ad024e319db8a0ab5df8941ed86ce783eefe9f31098393 size: 1788\n",
      "progressDetail:,aux:Tag:latest,Digest:sha256:99aba923bcc1f0e4f8ad024e319db8a0ab5df8941ed86ce783eefe9f31098393,Size:1788\n",
      "\n"
     ]
    },
    {
     "data": {
      "text/plain": [
       "'337058716437.dkr.ecr.ca-central-1.amazonaws.com/xgboost-training-demo'"
      ]
     },
     "execution_count": 2,
     "metadata": {},
     "output_type": "execute_result"
    }
   ],
   "source": [
    "build_and_push('xgboost-training-demo', '.', 'xgboost-training-demo')"
   ]
  }
 ],
 "metadata": {
  "kernelspec": {
   "display_name": "conda_python3",
   "language": "python",
   "name": "conda_python3"
  },
  "language_info": {
   "codemirror_mode": {
    "name": "ipython",
    "version": 3
   },
   "file_extension": ".py",
   "mimetype": "text/x-python",
   "name": "python",
   "nbconvert_exporter": "python",
   "pygments_lexer": "ipython3",
   "version": "3.6.13"
  }
 },
 "nbformat": 4,
 "nbformat_minor": 5
}
