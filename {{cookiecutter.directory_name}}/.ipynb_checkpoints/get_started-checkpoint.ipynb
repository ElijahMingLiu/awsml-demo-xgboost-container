{
 "cells": [
  {
   "cell_type": "markdown",
   "id": "69be4f01",
   "metadata": {},
   "source": [
    "Install AWSML Library"
   ]
  },
  {
   "cell_type": "code",
   "execution_count": 1,
   "id": "e3dab170",
   "metadata": {
    "scrolled": true
   },
   "outputs": [
    {
     "name": "stdout",
     "output_type": "stream",
     "text": [
      "Requirement already satisfied: awsml in /home/ec2-user/anaconda3/envs/python3/lib/python3.6/site-packages (0.1.4)\n",
      "Requirement already satisfied: sagemaker==2.45.0 in /home/ec2-user/anaconda3/envs/python3/lib/python3.6/site-packages (from awsml) (2.45.0)\n",
      "Requirement already satisfied: protobuf3-to-dict>=0.1.5 in /home/ec2-user/anaconda3/envs/python3/lib/python3.6/site-packages (from sagemaker==2.45.0->awsml) (0.1.5)\n",
      "Requirement already satisfied: pandas in /home/ec2-user/anaconda3/envs/python3/lib/python3.6/site-packages (from sagemaker==2.45.0->awsml) (0.25.2)\n",
      "Requirement already satisfied: attrs in /home/ec2-user/anaconda3/envs/python3/lib/python3.6/site-packages (from sagemaker==2.45.0->awsml) (20.3.0)\n",
      "Requirement already satisfied: importlib-metadata>=1.4.0 in /home/ec2-user/anaconda3/envs/python3/lib/python3.6/site-packages (from sagemaker==2.45.0->awsml) (1.7.0)\n",
      "Requirement already satisfied: smdebug-rulesconfig==1.0.1 in /home/ec2-user/anaconda3/envs/python3/lib/python3.6/site-packages (from sagemaker==2.45.0->awsml) (1.0.1)\n",
      "Requirement already satisfied: boto3>=1.16.32 in /home/ec2-user/anaconda3/envs/python3/lib/python3.6/site-packages (from sagemaker==2.45.0->awsml) (1.18.22)\n",
      "Requirement already satisfied: packaging>=20.0 in /home/ec2-user/anaconda3/envs/python3/lib/python3.6/site-packages (from sagemaker==2.45.0->awsml) (20.9)\n",
      "Requirement already satisfied: pathos in /home/ec2-user/anaconda3/envs/python3/lib/python3.6/site-packages (from sagemaker==2.45.0->awsml) (0.2.7)\n",
      "Requirement already satisfied: google-pasta in /home/ec2-user/anaconda3/envs/python3/lib/python3.6/site-packages (from sagemaker==2.45.0->awsml) (0.2.0)\n",
      "Requirement already satisfied: protobuf>=3.1 in /home/ec2-user/anaconda3/envs/python3/lib/python3.6/site-packages (from sagemaker==2.45.0->awsml) (3.10.0)\n",
      "Requirement already satisfied: numpy>=1.9.0 in /home/ec2-user/anaconda3/envs/python3/lib/python3.6/site-packages (from sagemaker==2.45.0->awsml) (1.17.3)\n",
      "Requirement already satisfied: jmespath<1.0.0,>=0.7.1 in /home/ec2-user/anaconda3/envs/python3/lib/python3.6/site-packages (from boto3>=1.16.32->sagemaker==2.45.0->awsml) (0.9.4)\n",
      "Requirement already satisfied: s3transfer<0.6.0,>=0.5.0 in /home/ec2-user/anaconda3/envs/python3/lib/python3.6/site-packages (from boto3>=1.16.32->sagemaker==2.45.0->awsml) (0.5.0)\n",
      "Requirement already satisfied: botocore<1.22.0,>=1.21.22 in /home/ec2-user/anaconda3/envs/python3/lib/python3.6/site-packages (from boto3>=1.16.32->sagemaker==2.45.0->awsml) (1.21.22)\n",
      "Requirement already satisfied: python-dateutil<3.0.0,>=2.1 in /home/ec2-user/anaconda3/envs/python3/lib/python3.6/site-packages (from botocore<1.22.0,>=1.21.22->boto3>=1.16.32->sagemaker==2.45.0->awsml) (2.8.0)\n",
      "Requirement already satisfied: urllib3<1.27,>=1.25.4 in /home/ec2-user/anaconda3/envs/python3/lib/python3.6/site-packages (from botocore<1.22.0,>=1.21.22->boto3>=1.16.32->sagemaker==2.45.0->awsml) (1.26.6)\n",
      "Requirement already satisfied: zipp>=0.5 in /home/ec2-user/anaconda3/envs/python3/lib/python3.6/site-packages (from importlib-metadata>=1.4.0->sagemaker==2.45.0->awsml) (3.4.0)\n",
      "Requirement already satisfied: pyparsing>=2.0.2 in /home/ec2-user/anaconda3/envs/python3/lib/python3.6/site-packages (from packaging>=20.0->sagemaker==2.45.0->awsml) (2.4.7)\n",
      "Requirement already satisfied: setuptools in /home/ec2-user/anaconda3/envs/python3/lib/python3.6/site-packages (from protobuf>=3.1->sagemaker==2.45.0->awsml) (49.6.0.post20210108)\n",
      "Requirement already satisfied: six>=1.9 in /home/ec2-user/anaconda3/envs/python3/lib/python3.6/site-packages (from protobuf>=3.1->sagemaker==2.45.0->awsml) (1.11.0)\n",
      "Requirement already satisfied: pytz>=2017.2 in /home/ec2-user/anaconda3/envs/python3/lib/python3.6/site-packages (from pandas->sagemaker==2.45.0->awsml) (2019.3)\n",
      "Requirement already satisfied: pox>=0.2.9 in /home/ec2-user/anaconda3/envs/python3/lib/python3.6/site-packages (from pathos->sagemaker==2.45.0->awsml) (0.2.9)\n",
      "Requirement already satisfied: ppft>=1.6.6.3 in /home/ec2-user/anaconda3/envs/python3/lib/python3.6/site-packages (from pathos->sagemaker==2.45.0->awsml) (1.6.6.3)\n",
      "Requirement already satisfied: multiprocess>=0.70.11 in /home/ec2-user/anaconda3/envs/python3/lib/python3.6/site-packages (from pathos->sagemaker==2.45.0->awsml) (0.70.11.1)\n",
      "Requirement already satisfied: dill>=0.3.3 in /home/ec2-user/anaconda3/envs/python3/lib/python3.6/site-packages (from pathos->sagemaker==2.45.0->awsml) (0.3.3)\n",
      "\u001b[33mWARNING: You are using pip version 21.1.2; however, version 21.2.4 is available.\n",
      "You should consider upgrading via the '/home/ec2-user/anaconda3/envs/python3/bin/python -m pip install --upgrade pip' command.\u001b[0m\n"
     ]
    }
   ],
   "source": [
    "! pip install awsml"
   ]
  },
  {
   "cell_type": "code",
   "execution_count": 1,
   "id": "80509187",
   "metadata": {},
   "outputs": [],
   "source": [
    "from awsml.docker_utils import build_and_push"
   ]
  },
  {
   "cell_type": "markdown",
   "id": "6bba7706",
   "metadata": {},
   "source": [
    "Specify：\n",
    "- local image name\n",
    "- Dockerfile path\n",
    "- ECR image name"
   ]
  },
  {
   "cell_type": "code",
   "execution_count": 2,
   "id": "41dd1bd4",
   "metadata": {
    "scrolled": true
   },
   "outputs": [
    {
     "name": "stdout",
     "output_type": "stream",
     "text": [
      "******************************\n",
      "Start building\n",
      "Step 1/12 : FROM ubuntu:18.04\n",
      " ---> 39a8cfeef173\n",
      "Step 2/12 : RUN apt-get update &&     apt-get -y install --no-install-recommends     wget     curl     python3-dev     nginx     ca-certificates     libgomp1     gcc     && rm -rf /var/lib/apt/lists/*     && curl -O https://bootstrap.pypa.io/get-pip.py     && python3 get-pip.py\n",
      " ---> Using cache\n",
      " ---> 66fd451be5bc\n",
      "Step 3/12 : RUN pip install boto3\n",
      " ---> Using cache\n",
      " ---> a23ae5e507ab\n",
      "Step 4/12 : RUN update-alternatives --install /usr/bin/python python /usr/bin/python3 1\n",
      " ---> Using cache\n",
      " ---> 9fb6441bcef4\n",
      "Step 5/12 : RUN update-alternatives --install /usr/local/bin/pip pip /usr/local/bin/pip3 1\n",
      " ---> Using cache\n",
      " ---> a4592ee718a2\n",
      "Step 6/12 : RUN pip3 install -i https://pypi.doubanio.com/simple boto3 numpy scipy scikit-learn pandas flask gevent gunicorn xgboost\n",
      " ---> Using cache\n",
      " ---> d3b50979caac\n",
      "Step 7/12 : ENV PYTHONUNBUFFERED=TRUE\n",
      " ---> Using cache\n",
      " ---> 1fdc627c7243\n",
      "Step 8/12 : ENV PYTHONDONTWRITEBYTECODE=TRUE\n",
      " ---> Using cache\n",
      " ---> b32e7d0191c1\n",
      "Step 9/12 : ENV PATH=\"/opt/ml/code:${PATH}\"\n",
      " ---> Using cache\n",
      " ---> dc36dd4e7f3a\n",
      "Step 10/12 : WORKDIR /opt/ml/code\n",
      " ---> Using cache\n",
      " ---> 7a0ca281c9b2\n",
      "Step 11/12 : COPY code /opt/ml/code\n",
      " ---> Using cache\n",
      " ---> bdf74a89a830\n",
      "Step 12/12 : RUN chmod +x train\n",
      " ---> Using cache\n",
      " ---> 290e61b9a4ab\n",
      "Successfully built 290e61b9a4ab\n",
      "Successfully tagged xgboost-training-demo:latest\n",
      "\n",
      "\n",
      "\n",
      "\n",
      "******************************\n",
      "Start pushing\n",
      "[Info]Repository xgboost-training-demo existed\n",
      "337058716437.dkr.ecr.ca-central-1.amazonaws.com/xgboost-training-demo\n",
      "The push refers to repository [337058716437.dkr.ecr.ca-central-1.amazonaws.com/xgboost-training-demo\n",
      "Preparing,progressDetail:,id:1540b30ec77c\n",
      "Preparing,progressDetail:,id:166d9ac4d233\n",
      "Preparing,progressDetail:,id:216d1b70033d\n",
      "Preparing,progressDetail:,id:3082a51c12d1\n",
      "Preparing,progressDetail:,id:0c38f1e6ba0a\n",
      "Preparing,progressDetail:,id:cb7ddc30ad9f\n",
      "Preparing,progressDetail:,id:998f4e9ad063\n",
      "Preparing,progressDetail:,id:54db00fe408f\n",
      "Preparing,progressDetail:,id:21639b09744f\n",
      "Waiting,progressDetail:,id:cb7ddc30ad9f\n",
      "Waiting,progressDetail:,id:998f4e9ad063\n",
      "Waiting,progressDetail:,id:54db00fe408f\n",
      "Waiting,progressDetail:,id:21639b09744f\n",
      "Layer already exists,progressDetail:,id:1540b30ec77c\n",
      "Layer already exists,progressDetail:,id:166d9ac4d233\n",
      "Layer already exists,progressDetail:,id:216d1b70033d\n",
      "Layer already exists,progressDetail:,id:3082a51c12d1\n",
      "Layer already exists,progressDetail:,id:0c38f1e6ba0a\n",
      "Layer already exists,progressDetail:,id:cb7ddc30ad9f\n",
      "Layer already exists,progressDetail:,id:54db00fe408f\n",
      "Layer already exists,progressDetail:,id:998f4e9ad063\n",
      "Layer already exists,progressDetail:,id:21639b09744f\n",
      "latest: digest: sha256:e2a1e8232c2a4552d25be33bdf28d8ec5ce39f274faf51ce9e5f0e0049b92fc9 size: 2202\n",
      "progressDetail:,aux:Tag:latest,Digest:sha256:e2a1e8232c2a4552d25be33bdf28d8ec5ce39f274faf51ce9e5f0e0049b92fc9,Size:2202\n",
      "\n"
     ]
    },
    {
     "data": {
      "text/plain": [
       "'337058716437.dkr.ecr.ca-central-1.amazonaws.com/xgboost-training-demo'"
      ]
     },
     "execution_count": 2,
     "metadata": {},
     "output_type": "execute_result"
    }
   ],
   "source": [
    "build_and_push('xgboost-training-demo', '.', 'xgboost-training-demo')"
   ]
  },
  {
   "cell_type": "code",
   "execution_count": null,
   "id": "5207eb4f",
   "metadata": {},
   "outputs": [],
   "source": []
  },
  {
   "cell_type": "code",
   "execution_count": 26,
   "id": "ce2b82d8",
   "metadata": {},
   "outputs": [
    {
     "name": "stdout",
     "output_type": "stream",
     "text": [
      "[WARNING] Did not specify sagemaker_session, so trying to get default sagemaker_session:\n",
      "[WARNING] Geted sagemaker_session is : <sagemaker.session.Session object at 0x7f9f22803f60>. This might be wrong, you can specify role using sagemaker_session=sagemaker.session.Session()\n",
      "[INFO] Uploading local code to S3\n",
      "[WARNING] Parameter bucket is None, uploading local code to default S3 bucket: sagemaker-ca-central-1-337058716437\n",
      "[INFO] Uploading local code to default S3 bucket: s3://sagemaker-ca-central-1-337058716437/test-mlops/code\n",
      "[INFO] Code file is uploaded to :s3://sagemaker-ca-central-1-337058716437/test-mlops/code/sourcedir.tar.gz\n",
      "[WARNING] Didn't set excution role, so trying to get default excution Role\n",
      "[WARNING] Geted excution role is : arn:aws:iam::337058716437:role/test-mlops-template-sagemaker-role. This might be wrong, you can specify role using role='ARN_ROLE'\n",
      "*************************************\n",
      "*************************************\n",
      "*************************************\n",
      "\n",
      "[INFO] Training image: 337058716437.dkr.ecr.ca-central-1.amazonaws.com/xgboost-training-demo\n",
      "[INFO] Training role arn:aws:iam::337058716437:role/test-mlops-template-sagemaker-role\n",
      "[INFO] Code file list: ['code/train.py', 'code/train']\n",
      "[INFO] Starting training\n",
      "Creating w7dg479s0s-algo-1-yfrnw ... \n",
      "\u001b[1BAttaching to w7dg479s0s-algo-1-yfrnw2mdone\u001b[0m\n",
      "\u001b[36mw7dg479s0s-algo-1-yfrnw |\u001b[0m train  train.py\n",
      "\u001b[36mw7dg479s0s-algo-1-yfrnw |\u001b[0m ..............\n",
      "\u001b[36mw7dg479s0s-algo-1-yfrnw |\u001b[0m /opt/ml/code/train.py\n",
      "\u001b[36mw7dg479s0s-algo-1-yfrnw |\u001b[0m ..............\n",
      "\u001b[36mw7dg479s0s-algo-1-yfrnw exited with code 0\n",
      "\u001b[0mAborting on container exit...\n",
      "===== Job Complete =====\n",
      "Training Finished!!\n"
     ]
    }
   ],
   "source": [
    "from awsml.train_utils import train_own_docker_and_code\n",
    "\n",
    "# 训练集\n",
    "train_set_path = 's3://ca-central-sagemaker-test/iris-data/'\n",
    "\n",
    "# 文件\n",
    "code_path = 'code'\n",
    "\n",
    "# 启动的脚本\n",
    "script = 'train.py'\n",
    "\n",
    "# 代码在哪个image跑\n",
    "image = '337058716437.dkr.ecr.ca-central-1.amazonaws.com/xgboost-training-demo'\n",
    "\n",
    "# 训练任务的前缀\n",
    "prefix = 'test-mlops'\n",
    "\n",
    "est = train_own_docker_and_code(train_set_path=train_set_path, code_path=code_path, script=script, image=image, prefix=prefix, instance_type='local')\n",
    "\n",
    "print(\"Training Finished!!\")"
   ]
  },
  {
   "cell_type": "code",
   "execution_count": null,
   "id": "78236dfc",
   "metadata": {},
   "outputs": [],
   "source": []
  }
 ],
 "metadata": {
  "kernelspec": {
   "display_name": "conda_python3",
   "language": "python",
   "name": "conda_python3"
  },
  "language_info": {
   "codemirror_mode": {
    "name": "ipython",
    "version": 3
   },
   "file_extension": ".py",
   "mimetype": "text/x-python",
   "name": "python",
   "nbconvert_exporter": "python",
   "pygments_lexer": "ipython3",
   "version": "3.6.13"
  }
 },
 "nbformat": 4,
 "nbformat_minor": 5
}
